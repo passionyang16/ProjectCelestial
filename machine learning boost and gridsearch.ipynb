{
 "cells": [
  {
   "cell_type": "code",
   "execution_count": 0,
   "metadata": {
    "colab": {},
    "colab_type": "code",
    "id": "zxkEt5yqw5iQ"
   },
   "outputs": [],
   "source": [
    "import numpy as np\n",
    "import pandas as pd"
   ]
  },
  {
   "cell_type": "code",
   "execution_count": 0,
   "metadata": {
    "colab": {},
    "colab_type": "code",
    "id": "aM84FusfvGXa"
   },
   "outputs": [],
   "source": [
    "train = pd.read_csv('data/train.csv', index_col='id')"
   ]
  },
  {
   "cell_type": "code",
   "execution_count": null,
   "metadata": {},
   "outputs": [],
   "source": [
    "# RobustScaler\n",
    "from sklearn.preprocessing import RobustScaler\n",
    "train_for_scaling = train.iloc[:,2:] #type과 fiberID 제외하고 데이터 생성\n",
    "robustScaler = RobustScaler()\n",
    "print(robustScaler.fit(train_for_scaling))\n",
    "train_robustscaled = robustScaler.transform(train_for_scaling) #robustscaling 적용\n",
    "train_robustscaled = pd.DataFrame(train_robustscaled,columns=train_for_scaling.columns)\n",
    "train_robustscaled = pd.concat([train[['type', 'fiberID']], train_robustscaled], axis=1) \n",
    "train_robustscaled #robustscaling과 type,fiberID 합치기"
   ]
  },
  {
   "cell_type": "code",
   "execution_count": 0,
   "metadata": {
    "colab": {},
    "colab_type": "code",
    "id": "T-0oCA3gvGXh"
   },
   "outputs": [],
   "source": [
    "from sklearn.model_selection import train_test_split\n",
    "X = train_robustscaled.drop('type', axis = 1)\n",
    "y = train_robustscaled['type']\n",
    "X_train, X_test, y_train, y_test = train_test_split(X, y, test_size= 0.2, random_state=42)"
   ]
  },
  {
   "cell_type": "code",
   "execution_count": 52,
   "metadata": {
    "colab": {
     "base_uri": "https://localhost:8080/",
     "height": 34
    },
    "colab_type": "code",
    "executionInfo": {
     "elapsed": 157392,
     "status": "ok",
     "timestamp": 1582157103578,
     "user": {
      "displayName": "JungYul Yang",
      "photoUrl": "",
      "userId": "02981858693609944339"
     },
     "user_tz": -540
    },
    "id": "chB45c9HvGXl",
    "outputId": "f334e91a-89d2-41e0-a3e2-e3e878b221ac"
   },
   "outputs": [
    {
     "data": {
      "text/plain": [
       "0.7486437160929024"
      ]
     },
     "execution_count": 52,
     "metadata": {
      "tags": []
     },
     "output_type": "execute_result"
    }
   ],
   "source": [
    "#1. Randomforest\n",
    "from sklearn.ensemble import RandomForestClassifier\n",
    "rnd_model = RandomForestClassifier(n_estimators=500, max_leaf_nodes=16, random_state=True, n_jobs=-1)\n",
    "rnd_model.fit(X_train, y_train)\n",
    "rnd_model.score(X_test,y_test)"
   ]
  },
  {
   "cell_type": "code",
   "execution_count": 65,
   "metadata": {
    "colab": {
     "base_uri": "https://localhost:8080/",
     "height": 34
    },
    "colab_type": "code",
    "executionInfo": {
     "elapsed": 545190,
     "status": "ok",
     "timestamp": 1582158374943,
     "user": {
      "displayName": "JungYul Yang",
      "photoUrl": "",
      "userId": "02981858693609944339"
     },
     "user_tz": -540
    },
    "id": "HsivQvU52oto",
    "outputId": "a58f7448-5761-4822-fdff-1511537fdbbd"
   },
   "outputs": [
    {
     "data": {
      "text/plain": [
       "0.8775219380484512"
      ]
     },
     "execution_count": 65,
     "metadata": {
      "tags": []
     },
     "output_type": "execute_result"
    }
   ],
   "source": [
    "#2. XgBoost \n",
    "import xgboost as xgb\n",
    "xgb_model = xgb.XGBClassifier(n_estimators=1000,\n",
    "                        n_jobs=4,\n",
    "                        max_depth=15,\n",
    "                        learning_rate=0.05,\n",
    "                        gamma = 0.02,\n",
    "                        subsample = 0.9,\n",
    "                        colsample_bytree=0.9,\n",
    "                        missing=-999,\n",
    "                        tree_method='gpu_hist')\n",
    "xgb_model.fit(X_train,y_train)\n",
    "xgb_model.score(X_test,y_test)"
   ]
  },
  {
   "cell_type": "code",
   "execution_count": 1,
   "metadata": {
    "colab": {
     "base_uri": "https://localhost:8080/",
     "height": 34
    },
    "colab_type": "code",
    "executionInfo": {
     "elapsed": 582373,
     "status": "ok",
     "timestamp": 1582160117224,
     "user": {
      "displayName": "JungYul Yang",
      "photoUrl": "",
      "userId": "02981858693609944339"
     },
     "user_tz": -540
    },
    "id": "RrASgMnO2sBg",
    "outputId": "49451725-c8cd-4825-cd0f-1c7beae730dd"
   },
   "outputs": [
    {
     "name": "stderr",
     "output_type": "stream",
     "text": [
      "/opt/anaconda3/lib/python3.7/site-packages/lightgbm/__init__.py:48: UserWarning: Starting from version 2.2.1, the library file in distribution wheels for macOS is built by the Apple Clang (Xcode_8.3.3) compiler.\n",
      "This means that in case of installing LightGBM from PyPI via the ``pip install lightgbm`` command, you don't need to install the gcc compiler anymore.\n",
      "Instead of that, you need to install the OpenMP library, which is required for running LightGBM on the system with the Apple Clang compiler.\n",
      "You can install the OpenMP library by the following command: ``brew install libomp``.\n",
      "  \"You can install the OpenMP library by the following command: ``brew install libomp``.\", UserWarning)\n"
     ]
    },
    {
     "ename": "NameError",
     "evalue": "name 'LGBMClassifier' is not defined",
     "output_type": "error",
     "traceback": [
      "\u001b[0;31m---------------------------------------------------------------------------\u001b[0m",
      "\u001b[0;31mNameError\u001b[0m                                 Traceback (most recent call last)",
      "\u001b[0;32m<ipython-input-1-db3f097a76d2>\u001b[0m in \u001b[0;36m<module>\u001b[0;34m\u001b[0m\n\u001b[1;32m      1\u001b[0m \u001b[0;31m#3. LGBM\u001b[0m\u001b[0;34m\u001b[0m\u001b[0;34m\u001b[0m\u001b[0;34m\u001b[0m\u001b[0m\n\u001b[1;32m      2\u001b[0m \u001b[0;32mfrom\u001b[0m \u001b[0mlightgbm\u001b[0m \u001b[0;32mimport\u001b[0m \u001b[0mLGBMRegressor\u001b[0m\u001b[0;34m\u001b[0m\u001b[0;34m\u001b[0m\u001b[0m\n\u001b[0;32m----> 3\u001b[0;31m lgbm_model = LGBMClassifier(boosting_type='gbdt', objective='binary', num_leaves=10,\n\u001b[0m\u001b[1;32m      4\u001b[0m                                 \u001b[0mlearning_rate\u001b[0m\u001b[0;34m=\u001b[0m\u001b[0;36m0.1\u001b[0m\u001b[0;34m,\u001b[0m \u001b[0mn_estimators\u001b[0m\u001b[0;34m=\u001b[0m\u001b[0;36m2000\u001b[0m\u001b[0;34m,\u001b[0m \u001b[0mmax_depth\u001b[0m\u001b[0;34m=\u001b[0m\u001b[0;36m15\u001b[0m\u001b[0;34m,\u001b[0m\u001b[0;34m\u001b[0m\u001b[0;34m\u001b[0m\u001b[0m\n\u001b[1;32m      5\u001b[0m                                 bagging_fraction=0.9, feature_fraction=0.9, reg_lambda=0.2)\n",
      "\u001b[0;31mNameError\u001b[0m: name 'LGBMClassifier' is not defined"
     ]
    }
   ],
   "source": [
    "#3. LGBM\n",
    "from lightgbm import LGBMRegressor\n",
    "lgbm_model = LGBMClassifier(boosting_type='gbdt', objective='binary', num_leaves=10,\n",
    "                                learning_rate=0.1, n_estimators=2000, max_depth=15,\n",
    "                                bagging_fraction=0.9, feature_fraction=0.9, reg_lambda=0.2)\n",
    "lgbm_model.fit(X_train,y_train)\n",
    "lgbm_model.score(X_test,y_test)"
   ]
  },
  {
   "cell_type": "code",
   "execution_count": 2,
   "metadata": {
    "colab": {},
    "colab_type": "code",
    "id": "ZvgoROGYMQwL"
   },
   "outputs": [],
   "source": [
    "#GridSearch\n",
    "from sklearn.model_selection import GridSearchCV\n",
    "from lightgbm import LGBMClassifier\n",
    "\n",
    "lgbm_model = LGBMClassifier(objective='binary')\n",
    "\n",
    "param_dist = {'boosting_type':['rf'],\n",
    "              'n_estimators': [1500,2000,2500],\n",
    "              'max_depth': [15,30,45],\n",
    "              'learning_rate': [0.01,0.05,0.1],\n",
    "              'bagging_freq': [1],\n",
    "              'bagging_fraction':[0.9]\n",
    "             }\n",
    "grid_search = GridSearchCV(lgbm_model, n_jobs=6, param_grid=param_dist, cv=5, scoring=\"neg_log_loss\", verbose=5)\n",
    "grid_search.fit(X,y)"
   ]
  },
  {
   "cell_type": "code",
   "execution_count": null,
   "metadata": {},
   "outputs": [],
   "source": [
    "#parameter 찾기\n",
    "grid_search.best_estimator_"
   ]
  },
  {
   "cell_type": "code",
   "execution_count": null,
   "metadata": {},
   "outputs": [],
   "source": [
    "#Test 데이터 불러와서 index 설정\n",
    "test = pd.read_csv('data/test.csv')\n",
    "test = test.reset_index()\n",
    "id_for_index = test['id']"
   ]
  },
  {
   "cell_type": "code",
   "execution_count": null,
   "metadata": {},
   "outputs": [],
   "source": [
    "#Test 데이터 결과값 예측\n",
    "test_pred_prob_lgbm_robustscaled = lgbm_model.predict_proba(test)\n",
    "test_pred_prob_lgbm_robustscaled"
   ]
  },
  {
   "cell_type": "code",
   "execution_count": null,
   "metadata": {},
   "outputs": [],
   "source": [
    "# Dataframe 형식으로 변환\n",
    "result = pd.DataFrame(data=test_pred_prob_xgb_robustscaled, index=id_for_index, columns=lgbm_model.classes_)\n",
    "result.head()"
   ]
  },
  {
   "cell_type": "code",
   "execution_count": null,
   "metadata": {},
   "outputs": [],
   "source": [
    "#Sample Submission 형식으로 변환\n",
    "sample = pd.read_csv(\"/data/sample_submission.csv\")\n",
    "col_order = sample.columns[1:]\n",
    "result = result[col_order]\n",
    "result"
   ]
  },
  {
   "cell_type": "code",
   "execution_count": null,
   "metadata": {},
   "outputs": [],
   "source": [
    "#csv 내보내기\n",
    "result.to_csv('/content/drive/My Drive/DACON/data/1st_submission_rb_lgbm.csv',sep=',')"
   ]
  }
 ],
 "metadata": {
  "accelerator": "GPU",
  "colab": {
   "collapsed_sections": [],
   "name": "Untitled.ipynb",
   "provenance": []
  },
  "kernelspec": {
   "display_name": "Python 3",
   "language": "python",
   "name": "python3"
  },
  "language_info": {
   "codemirror_mode": {
    "name": "ipython",
    "version": 3
   },
   "file_extension": ".py",
   "mimetype": "text/x-python",
   "name": "python",
   "nbconvert_exporter": "python",
   "pygments_lexer": "ipython3",
   "version": "3.7.4"
  }
 },
 "nbformat": 4,
 "nbformat_minor": 1
}
